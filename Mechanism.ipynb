{
 "cells": [
  {
   "cell_type": "markdown",
   "id": "7f0d7449",
   "metadata": {},
   "source": [
    "8 - 9 : ADDED VIDEO OUT AND THE PLOT SHOULD BE FIXED FOR NON-GRASHOFF"
   ]
  },
  {
   "cell_type": "code",
   "execution_count": 1,
   "id": "5b1e42ae",
   "metadata": {},
   "outputs": [],
   "source": [
    "def mechtype(l1, l2, l3, l4):\n",
    "    L = [l1, l2, l3, l4]\n",
    "    L.sort()\n",
    "    lmax = L[-1]\n",
    "    lmin = L[0]\n",
    "    la = L[1]\n",
    "    lb = L[2]\n",
    "    \n",
    "    if lmax + lmin <= la + lb:\n",
    "        return 0 #Grashoff\n",
    "    elif lmax + lmin > la + lb:\n",
    "        return 1 #non grashoff"
   ]
  },
  {
   "cell_type": "code",
   "execution_count": 2,
   "id": "cc117231",
   "metadata": {},
   "outputs": [],
   "source": [
    "import matplotlib.pyplot as plt\n",
    "import matplotlib.patches as patches\n",
    "import numpy as np\n",
    "import matplotlib.patches as patches\n",
    "import cv2"
   ]
  },
  {
   "cell_type": "code",
   "execution_count": 3,
   "id": "f9e0b5e1",
   "metadata": {},
   "outputs": [],
   "source": [
    "def angles(r1, r2, r3, r4, theta):\n",
    "    \n",
    "    S = np.sqrt(r1 ** 2 + r2 ** 2 - 2 * r1 * r2 * np.cos(theta))\n",
    "    beta = np.arccos((r1 ** 2 + S ** 2 - r2 ** 2) / (2 * r1 * S))\n",
    "    syi = np.arccos((r3 ** 2 + S ** 2 - r4 ** 2) / (2 * r3 * S))\n",
    "    lamda = np.arccos((r4 ** 2 + S ** 2 - r3 ** 2) / (2 * r4 * S))\n",
    "    \n",
    "    return beta, syi, lamda\n",
    "\n",
    "def fangles(theta2, B, S, L):\n",
    "    if 0 <= theta2 <= np.pi:\n",
    "        theta3_1 = -B + S\n",
    "        theta3_2 = -B - S\n",
    "        \n",
    "        theta4_1 = np.pi - B - L \n",
    "        theta4_2 = np.pi - B + L\n",
    "    \n",
    "    elif np.pi < theta2 <= 2 * np.pi:\n",
    "        theta3_1 = B + S\n",
    "        theta3_2 = B - S\n",
    "        \n",
    "        theta4_1 = np.pi + B - L\n",
    "        theta4_2 = np.pi + B + L\n",
    "    return theta3_1, theta3_2, theta4_1, theta4_2"
   ]
  },
  {
   "cell_type": "code",
   "execution_count": 49,
   "id": "67b0eb11",
   "metadata": {
    "scrolled": false
   },
   "outputs": [
    {
     "data": {
      "text/plain": [
       "1"
      ]
     },
     "execution_count": 49,
     "metadata": {},
     "output_type": "execute_result"
    }
   ],
   "source": [
    "import numpy as np\n",
    "import matplotlib.pyplot as plt\n",
    "import matplotlib.patches as patches\n",
    "\n",
    "# Define your line lengths, the order is standard\n",
    "l1 = 3\n",
    "l2 = 2\n",
    "l3 = 4\n",
    "l4 = 6\n",
    "mechtype(l1, l2, l3, l4)"
   ]
  },
  {
   "cell_type": "code",
   "execution_count": 73,
   "id": "6d5cb18b",
   "metadata": {},
   "outputs": [],
   "source": [
    "# enter the values of you're desired inputs\n",
    "theta2 = np.pi / 1.5\n",
    "B, S, L = angles(l1, l2, l3, l4, theta2)\n",
    "\n",
    "# for i in range(len(B)):\n",
    "allangles = fangles(theta2, B, S, L)\n",
    "theta3_1 = allangles[0]\n",
    "theta3_2 = allangles[1]\n",
    "theta4_1 = allangles[2]\n",
    "theta4_2 = allangles[3]\n",
    "\n",
    "# np.array(theta4_1) * 180 / np.pi + 15"
   ]
  },
  {
   "cell_type": "code",
   "execution_count": 74,
   "id": "eb3e8362",
   "metadata": {},
   "outputs": [
    {
     "data": {
      "image/png": "[encoded data removed]",
      "text/plain": [
       "<Figure size 640x480 with 1 Axes>"
      ]
     },
     "metadata": {},
     "output_type": "display_data"
    }
   ],
   "source": [
    "# Create a figure and axis\n",
    "import math\n",
    "fig, ax = plt.subplots()\n",
    "\n",
    "# Define the starting point of line 1\n",
    "l1x = np.linspace(0, l1, l1)\n",
    "l1y = np.linspace(0, 0, l1)\n",
    "\n",
    "\n",
    "# arc made by O2\n",
    "center2 = (l1x[0], l1y[0])\n",
    "radius2 = l2\n",
    "sangle2 = theta2 * 180 / np.pi\n",
    "eangle2 = 180 # open to change\n",
    "\n",
    "arc2 = patches.Arc(center2, 2 * radius2, 2 * radius2, theta1=sangle2, theta2=eangle2, fill=False, color='blue')\n",
    "ax.add_patch(arc2)\n",
    "plt.plot(l1x, l1y, color='red', marker='o')\n",
    "plt.text(l1x[0], l1y[0] - 0.1, f'O2, {round(sangle2, 2)}', fontsize=8, color='black', ha='center', va='top')\n",
    "# end of O2 arc\n",
    "\n",
    "# arc made by O4\n",
    "center4 = (l1x[-1], l1y[-1])\n",
    "radius4 = l4\n",
    "sangle4 = theta4_1 * 180 / np.pi\n",
    "eangle4 = theta4_2 * 180 / np.pi\n",
    "\n",
    "arc4 = patches.Arc(center4, 2 * radius4, 2 * radius4, theta1=sangle4, theta2=eangle4, fill=False, color='blue')\n",
    "ax.add_patch(arc4)\n",
    "plt.plot(l1x, l1y, color='red', marker='o')\n",
    "plt.text(l1x[-1], l1y[-1] - 0.1, f'O4, {round(sangle4, 2)}', fontsize=8, color='black', ha='center', va='top')\n",
    "#end of 04\n",
    "\n",
    "\n",
    "\n",
    "\n",
    "# arc made by A\n",
    "lax = l2 * np.cos(theta2)\n",
    "lay = l2 * np.sin(theta2)\n",
    "\n",
    "plt.plot([l1x[0], lax], [l1y[0], lay], c = 'red',  marker='o')\n",
    "plt.text(lax, lay - 0.1, 'A', fontsize=12, color='black', ha='center', va='top')\n",
    "\n",
    "center3 = (lax, lay)\n",
    "radius3 = l3\n",
    "sangle3 = theta3_1 * 180 / np.pi\n",
    "eangle3 = theta3_2 * 180 / np.pi\n",
    "\n",
    "# arca = patches.Arc(center3, 2 * radius3, 2 * radius3, theta1 = eangle3, theta2 = sangle3, fill=False, color='blue')\n",
    "# ax.add_patch(arca)\n",
    "#end of A\n",
    "\n",
    "\n",
    "# Naming the location b (no arc is made)\n",
    "lbx = l3 * math.cos(sangle3 * np.pi / 180)\n",
    "lby = l3 * math.sin(sangle3 * np.pi / 180)\n",
    "\n",
    "plt.plot([lax, lax + lbx], [lay, lay + lby], c = 'red',  marker='o')\n",
    "plt.text(lax + lbx, lay + lby - 0.1, 'B', fontsize=12, color='black', ha='center', va='top')\n",
    "\n",
    "#joining the end\n",
    "plt.plot([l1x[-1], l1x[-1] + l4 * np.cos(sangle4 * np.pi / 180)], [l1y[-1], l1y[-1] + l4 * np.sin(sangle4 * np.pi / 180)], c='red')\n",
    "plt.gca().set_aspect('equal', adjustable='box')\n",
    "plt.show()"
   ]
  },
  {
   "cell_type": "code",
   "execution_count": 68,
   "id": "cb5f2454",
   "metadata": {},
   "outputs": [],
   "source": [
    "frame_rate = 10  # Adjust the frame rate as needed\n",
    "output_video_path = 'video/output_video.mp4'\n",
    "fourcc = cv2.VideoWriter_fourcc(*'mp4v')\n",
    "out = cv2.VideoWriter(output_video_path, fourcc, frame_rate, (640, 480))"
   ]
  },
  {
   "cell_type": "code",
   "execution_count": 69,
   "id": "2e33452b",
   "metadata": {
    "scrolled": false
   },
   "outputs": [],
   "source": [
    "end = np.pi * 1.75\n",
    "theta = np.linspace(np.pi * 0.25 ,end, 100) #FIX THE VALUES OF THETA2 FOR DOUBLE ROCKER\n",
    "for t2 in range(len(theta)):\n",
    "    theta2 = theta[t2]\n",
    "    B, S, L = angles(l1, l2, l3, l4, theta2)\n",
    "\n",
    "# for i in range(len(B)):\n",
    "    allangles = fangles(theta2, B, S, L)\n",
    "    theta3_1 = allangles[0]\n",
    "    theta3_2 = allangles[1]\n",
    "    theta4_1 = allangles[2]\n",
    "    theta4_2 = allangles[3]\n",
    "    fig, ax = plt.subplots()\n",
    "\n",
    "# Define the starting point of line 1\n",
    "    l1x = np.linspace(0, l1, l1)\n",
    "    l1y = np.linspace(0, 0, l1)\n",
    "\n",
    "\n",
    "    # arc made by O2\n",
    "    center2 = (l1x[0], l1y[0])\n",
    "    radius2 = l2\n",
    "    sangle2 = theta2 * 180 / np.pi\n",
    "    eangle2 = end\n",
    "\n",
    "    arc2 = patches.Arc(center2, 2 * radius2, 2 * radius2, theta1=sangle2, theta2=eangle2, fill=False, color='blue')\n",
    "    ax.add_patch(arc2)\n",
    "    plt.plot(l1x, l1y, color='red', marker='o')\n",
    "    plt.text(l1x[0], l1y[0] - 0.1, f'O2, {round(sangle2, 2)}', fontsize=8, color='black', ha='center', va='top')\n",
    "\n",
    "    # arc made by O4\n",
    "    center4 = (l1x[-1], l1y[-1])\n",
    "    radius4 = l4\n",
    "    sangle4 = theta4_1 * 180 / np.pi\n",
    "    eangle4 = theta4_2 * 180 / np.pi\n",
    "\n",
    "    arc4 = patches.Arc(center4, 2 * radius4, 2 * radius4, theta1=sangle4, theta2=eangle4, fill=False, color='blue')\n",
    "    ax.add_patch(arc4)\n",
    "    plt.plot(l1x, l1y, color='red', marker='o')\n",
    "    plt.text(l1x[-1], l1y[-1] - 0.1,f'O4, {round(sangle4, 2)}', fontsize=8, color='black', ha='center', va='top')\n",
    "\n",
    "\n",
    "\n",
    "\n",
    "\n",
    "    # arc made by A\n",
    "    lax = l2 * np.cos(theta2)\n",
    "    lay = l2 * np.sin(theta2)\n",
    "\n",
    "    plt.plot([l1x[0], lax], [l1y[0], lay], c = 'red',  marker='o')\n",
    "    plt.text(lax, lay - 0.1, 'A', fontsize=12, color='black', ha='center', va='top')\n",
    "\n",
    "    center3 = (lax, lay)\n",
    "    radius3 = l3\n",
    "    sangle3 = theta3_1 * 180 / np.pi\n",
    "    eangle3 = theta3_2 * 180 / np.pi\n",
    "\n",
    "#     arca = patches.Arc(center3, 2 * radius3, 2 * radius3, theta1 = eangle3, theta2 = sangle3, fill=False, color='blue')\n",
    "#     ax.add_patch(arca)\n",
    "\n",
    "    # arc made by B\n",
    "\n",
    "    lbx = l3 * math.cos(theta3_1)\n",
    "    lby = l3 * math.sin(theta3_1)\n",
    "\n",
    "    plt.plot([lax, lax + lbx], [lay, lay + lby], c = 'red',  marker='o')\n",
    "    plt.text(lax + lbx, lay + lby - 0.1, 'B', fontsize=12, color='black', ha='center', va='top')\n",
    "    # plotting point 4 \n",
    "\n",
    "    plt.plot([l1x[-1], l1x[-1] + l4 * np.cos(sangle4 * np.pi / 180)], [l1y[-1], l1y[-1] + l4 * np.sin(sangle4 * np.pi / 180)], c='red')\n",
    "    plt.gca().set_aspect('equal', adjustable='box')\n",
    "    plt.xlim(-l4,1.5 * l4)\n",
    "    plt.ylim(-l4,1.5 * l4)\n",
    "    plt.savefig(f'images/frame_{t2:04d}.png')\n",
    "    plt.close()"
   ]
  },
  {
   "cell_type": "code",
   "execution_count": 70,
   "id": "9e229327",
   "metadata": {
    "scrolled": false
   },
   "outputs": [],
   "source": [
    "# creating a video\n",
    "for t2 in range(len(theta)):\n",
    "    frame_path = f'images/frame_{t2:04d}.png'\n",
    "    frame = cv2.imread(frame_path)\n",
    "    out.write(frame)\n",
    "out.release()"
   ]
  },
  {
   "cell_type": "code",
   "execution_count": 67,
   "id": "8621d175",
   "metadata": {},
   "outputs": [],
   "source": [
    "import os\n",
    "# Clean up the temporary image frames\n",
    "for t2 in range(len(theta)):\n",
    "    file_path = f'images/frame_{t2:04d}.png'\n",
    "    if os.path.exists(file_path):\n",
    "        os.remove(file_path)"
   ]
  }
 ],
 "metadata": {
  "kernelspec": {
   "display_name": "Python 3 (ipykernel)",
   "language": "python",
   "name": "python3"
  },
  "language_info": {
   "codemirror_mode": {
    "name": "ipython",
    "version": 3
   },
   "file_extension": ".py",
   "mimetype": "text/x-python",
   "name": "python",
   "nbconvert_exporter": "python",
   "pygments_lexer": "ipython3",
   "version": "3.10.9"
  }
 },
 "nbformat": 4,
 "nbformat_minor": 5
}
