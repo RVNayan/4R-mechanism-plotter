{
 "cells": [
  {
   "cell_type": "markdown",
   "id": "21e87c35",
   "metadata": {},
   "source": [
    "REPORT\n",
    "\n",
    "8 - 9 : ADDED VIDEO OUT AND THE PLOT SHOULD BE FIXED FOR NON-GRASHOFF\n",
    "\n",
    "9 - 9 : Fixed NAN value problem "
   ]
  },
  {
   "cell_type": "code",
   "execution_count": 177,
   "id": "cc117231",
   "metadata": {},
   "outputs": [],
   "source": [
    "import matplotlib.pyplot as plt\n",
    "import matplotlib.patches as patches\n",
    "import numpy as np\n",
    "import matplotlib.patches as patches\n",
    "import cv2"
   ]
  },
  {
   "cell_type": "code",
   "execution_count": 178,
   "id": "5b1e42ae",
   "metadata": {},
   "outputs": [],
   "source": [
    "def mechtype(l1, l2, l3, l4):\n",
    "    L = [l1, l2, l3, l4]\n",
    "    L.sort()\n",
    "    lmax = L[-1]\n",
    "    lmin = L[0]\n",
    "    la = L[1]\n",
    "    lb = L[2]\n",
    "    \n",
    "    if lmax + lmin <= la + lb:\n",
    "        return 0 #Grashoff\n",
    "    elif lmax + lmin > la + lb:\n",
    "        return 1 #non grashoff"
   ]
  },
  {
   "cell_type": "code",
   "execution_count": 179,
   "id": "f9e0b5e1",
   "metadata": {},
   "outputs": [],
   "source": [
    "def angles(r1, r2, r3, r4, theta):\n",
    "    \n",
    "    S = np.sqrt(r1 ** 2 + r2 ** 2 - 2 * r1 * r2 * np.cos(theta))\n",
    "    if S != 0:\n",
    "        beta = np.arccos((r1 ** 2 + S ** 2 - r2 ** 2) / (2 * r1 * S))\n",
    "        syi = np.arccos((r3 ** 2 + S ** 2 - r4 ** 2) / (2 * r3 * S))\n",
    "        lamda = np.arccos((r4 ** 2 + S ** 2 - r3 ** 2) / (2 * r4 * S))\n",
    "\n",
    "        return beta, syi, lamda\n",
    "    return 0, 0, 0\n",
    "\n",
    "def fangles(theta2, B, S, L):\n",
    "    if 0 <= theta2 <= np.pi:\n",
    "        theta3_1 = -B + S\n",
    "        theta3_2 = -B - S\n",
    "\n",
    "        theta4_1 = np.pi - B - L \n",
    "        theta4_2 = np.pi - B + L\n",
    "\n",
    "    elif np.pi < theta2 <= 2 * np.pi:\n",
    "        theta3_1 = B + S\n",
    "        theta3_2 = B - S\n",
    "\n",
    "        theta4_1 = np.pi + B - L\n",
    "        theta4_2 = np.pi + B + L\n",
    "    return theta3_1, theta3_2, theta4_1, theta4_2\n",
    "    "
   ]
  },
  {
   "cell_type": "markdown",
   "id": "5a3f20a3",
   "metadata": {},
   "source": [
    "defining the lengths of the mechanism"
   ]
  },
  {
   "cell_type": "code",
   "execution_count": 180,
   "id": "67b0eb11",
   "metadata": {
    "scrolled": false
   },
   "outputs": [
    {
     "data": {
      "text/plain": [
       "0"
      ]
     },
     "execution_count": 180,
     "metadata": {},
     "output_type": "execute_result"
    }
   ],
   "source": [
    "import numpy as np\n",
    "import matplotlib.pyplot as plt\n",
    "import matplotlib.patches as patches\n",
    "\n",
    "# Define your line lengths, the order is standard\n",
    "l1 = 3\n",
    "l2 = 5\n",
    "l3 = 4\n",
    "l4 = 6\n",
    "mechtype(l1, l2, l3, l4)"
   ]
  },
  {
   "cell_type": "code",
   "execution_count": 181,
   "id": "6d5cb18b",
   "metadata": {},
   "outputs": [],
   "source": [
    "# enter the values of you're desired inputs\n",
    "\n",
    "theta2 = np.pi / 180 * 45\n",
    "B, S, L = angles(l1, l2, l3, l4, theta2)\n",
    "allangles = fangles(theta2, B, S, L)\n",
    "theta3_1 = allangles[0]\n",
    "theta3_2 = allangles[1]\n",
    "theta4_1 = allangles[2]\n",
    "theta4_2 = allangles[3]"
   ]
  },
  {
   "cell_type": "markdown",
   "id": "c3e8edc6",
   "metadata": {},
   "source": [
    "plotting a mechanism as an example for the above value of theta2 "
   ]
  },
  {
   "cell_type": "code",
   "execution_count": 182,
   "id": "eb3e8362",
   "metadata": {},
   "outputs": [
    {
     "data": {
      "image/png": "[encoded data removed]",
      "text/plain": [
       "<Figure size 640x480 with 1 Axes>"
      ]
     },
     "metadata": {},
     "output_type": "display_data"
    }
   ],
   "source": [
    "# Create a figure and axis\n",
    "import math\n",
    "fig, ax = plt.subplots()\n",
    "\n",
    "# Define the starting point of line 1\n",
    "l1x = np.linspace(0, l1, l1)\n",
    "l1y = np.linspace(0, 0, l1)\n",
    "\n",
    "# arc made by O2\n",
    "center2 = (l1x[0], l1y[0])\n",
    "radius2 = l2\n",
    "sangle2 = theta2 * 180 / np.pi\n",
    "eangle2 = 180 # open to change\n",
    "\n",
    "arc2 = patches.Arc(center2, 2 * radius2, 2 * radius2, theta1=sangle2, theta2=eangle2, fill=False, color='blue')\n",
    "ax.add_patch(arc2)\n",
    "plt.plot(l1x, l1y, color='red', marker='o')\n",
    "plt.text(l1x[0], l1y[0] - 0.1, f'O2, {round(sangle2, 2)}', fontsize=8, color='black', ha='center', va='top')\n",
    "# end of O2 arc\n",
    "\n",
    "# arc made by O4\n",
    "center4 = (l1x[-1], l1y[-1])\n",
    "radius4 = l4\n",
    "sangle4 = theta4_1 * 180 / np.pi\n",
    "eangle4 = theta4_2 * 180 / np.pi\n",
    "\n",
    "arc4 = patches.Arc(center4, 2 * radius4, 2 * radius4, theta1=sangle4, theta2=eangle4, fill=False, color='blue')\n",
    "ax.add_patch(arc4)\n",
    "plt.plot(l1x, l1y, color='red', marker='o')\n",
    "plt.text(l1x[-1], l1y[-1] - 0.1, f'O4, {round(sangle4, 2)}', fontsize=8, color='black', ha='center', va='top')\n",
    "#end of 04\n",
    "\n",
    "\n",
    "\n",
    "\n",
    "# arc made by A\n",
    "lax = l2 * np.cos(theta2)\n",
    "lay = l2 * np.sin(theta2)\n",
    "\n",
    "plt.plot([l1x[0], lax], [l1y[0], lay], c = 'red',  marker='o')\n",
    "plt.text(lax, lay - 0.1, 'A', fontsize=12, color='black', ha='center', va='top')\n",
    "\n",
    "center3 = (lax, lay)\n",
    "radius3 = l3\n",
    "sangle3 = theta3_1 * 180 / np.pi\n",
    "eangle3 = theta3_2 * 180 / np.pi\n",
    "\n",
    "# arca = patches.Arc(center3, 2 * radius3, 2 * radius3, theta1 = eangle3, theta2 = sangle3, fill=False, color='blue')\n",
    "# ax.add_patch(arca)\n",
    "#end of A\n",
    "\n",
    "\n",
    "# Naming the location b (no arc is made)\n",
    "lbx = l3 * math.cos(sangle3 * np.pi / 180)\n",
    "lby = l3 * math.sin(sangle3 * np.pi / 180)\n",
    "\n",
    "plt.plot([lax, lax + lbx], [lay, lay + lby], c = 'red',  marker='o')\n",
    "plt.text(lax + lbx, lay + lby - 0.1, 'B', fontsize=12, color='black', ha='center', va='top')\n",
    "\n",
    "#joining the end\n",
    "plt.plot([l1x[-1], l1x[-1] + l4 * np.cos(sangle4 * np.pi / 180)], [l1y[-1], l1y[-1] + l4 * np.sin(sangle4 * np.pi / 180)], c='red')\n",
    "plt.gca().set_aspect('equal', adjustable='box')\n",
    "plt.show()"
   ]
  },
  {
   "cell_type": "markdown",
   "id": "11395ed1",
   "metadata": {},
   "source": [
    "Analyzing the locations where the angles become invalid (i.e. for rockers)"
   ]
  },
  {
   "cell_type": "code",
   "execution_count": 183,
   "id": "45b170ec",
   "metadata": {},
   "outputs": [],
   "source": [
    "import pandas as pd\n",
    "if mechtype(l1, l2, l3, l4) == 1: # This problem arises for rockers due to their restrictive motion.\n",
    "    check = []\n",
    "    end = np.pi\n",
    "    theta = np.linspace(0 ,end , 100) # FIX THE VALUES OF THETA2 FOR DOUBLE ROCKER\n",
    "    for theta2 in theta:    \n",
    "        check.append(angles(l1, l2, l3, l4, theta2)[1])\n",
    "    df = pd.DataFrame(check)\n",
    "    nan_df = df.isna()\n",
    "    nan_indices = np.argwhere(nan_df.values)\n",
    "    thetab = nan_indices[-1][0] + 1  # the first valid value is stored in thetab, all the values above it are invalid\n",
    "else:\n",
    "    thetab = 0 # for Grashoff chains no such problem arises\n",
    "start = theta[thetab]"
   ]
  },
  {
   "cell_type": "markdown",
   "id": "7cbf14b1",
   "metadata": {},
   "source": [
    "Using openCV to generate a video"
   ]
  },
  {
   "cell_type": "code",
   "execution_count": 184,
   "id": "cb5f2454",
   "metadata": {},
   "outputs": [],
   "source": [
    "frame_rate = 10  # Adjust the frame rate as needed\n",
    "output_video_path = 'video/output_video.mp4'\n",
    "fourcc = cv2.VideoWriter_fourcc(*'mp4v')\n",
    "out = cv2.VideoWriter(output_video_path, fourcc, frame_rate, (640, 480))"
   ]
  },
  {
   "cell_type": "markdown",
   "id": "c4ff7c07",
   "metadata": {},
   "source": [
    "Generating multiple combinations "
   ]
  },
  {
   "cell_type": "code",
   "execution_count": 186,
   "id": "2e33452b",
   "metadata": {
    "scrolled": false
   },
   "outputs": [],
   "source": [
    "# optained from prev observation\n",
    "end = np.pi * 2 - start\n",
    "start * 180 / np.pi, end * 180 / np.pi\n",
    "theta = np.linspace(start ,end, 100) #FIX THE VALUES OF THETA2 FOR DOUBLE ROCKER\n",
    "for t2 in range(len(theta)):\n",
    "    \n",
    "    theta2 = theta[t2]\n",
    "    B, S, L = angles(l1, l2, l3, l4, theta2)\n",
    "\n",
    "        \n",
    "    allangles = fangles(theta2, B, S, L)\n",
    "    theta3_1 = allangles[0]\n",
    "    theta3_2 = allangles[1]\n",
    "    theta4_1 = allangles[2]\n",
    "    theta4_2 = allangles[3]\n",
    "    fig, ax = plt.subplots()\n",
    "\n",
    "    # Define the starting point of line 1\n",
    "    l1x = np.linspace(0, l1, l1)\n",
    "    l1y = np.linspace(0, 0, l1)\n",
    "\n",
    "\n",
    "    # arc made by O2\n",
    "    center2 = (l1x[0], l1y[0])\n",
    "    radius2 = l2\n",
    "    sangle2 = theta2 * 180 / np.pi\n",
    "    eangle2 = end\n",
    "\n",
    "    arc2 = patches.Arc(center2, 2 * radius2, 2 * radius2, theta1=sangle2, theta2=eangle2, fill=False, color='blue')\n",
    "    ax.add_patch(arc2)\n",
    "    plt.plot(l1x, l1y, color='red', marker='o')\n",
    "    plt.text(l1x[0], l1y[0] - 0.1, f'O2, {round(sangle2, 2)}', fontsize=8, color='black', ha='center', va='top')\n",
    "\n",
    "    \n",
    "    # arc made by O4\n",
    "    center4 = (l1x[-1], l1y[-1])\n",
    "    radius4 = l4\n",
    "    sangle4 = theta4_1 * 180 / np.pi\n",
    "    eangle4 = theta4_2 * 180 / np.pi\n",
    "\n",
    "    arc4 = patches.Arc(center4, 2 * radius4, 2 * radius4, theta1=sangle4, theta2=eangle4, fill=False, color='blue')\n",
    "    ax.add_patch(arc4)\n",
    "    plt.plot(l1x, l1y, color='red', marker='o')\n",
    "    plt.text(l1x[-1], l1y[-1] - 0.1,f'O4, {round(sangle4, 2)}', fontsize=8, color='black', ha='center', va='top')\n",
    "\n",
    "\n",
    "\n",
    "    # marking point A and ploting l2\n",
    "    lax = l2 * np.cos(theta2)\n",
    "    lay = l2 * np.sin(theta2)\n",
    "\n",
    "    plt.plot([l1x[0], lax], [l1y[0], lay], c = 'red',  marker='o')\n",
    "    plt.text(lax, lay - 0.1, 'A', fontsize=12, color='black', ha='center', va='top')\n",
    "\n",
    "    center3 = (lax, lay)\n",
    "    radius3 = l3\n",
    "    sangle3 = theta3_1 * 180 / np.pi\n",
    "    eangle3 = theta3_2 * 180 / np.pi\n",
    "\n",
    "#     arca = patches.Arc(center3, 2 * radius3, 2 * radius3, theta1 = eangle3, theta2 = sangle3, fill=False, color='blue')\n",
    "#     ax.add_patch(arca)\n",
    "\n",
    "    # marking point B and ploting l3\n",
    "    lbx = l3 * math.cos(theta3_1)\n",
    "    lby = l3 * math.sin(theta3_1)\n",
    "\n",
    "    plt.plot([lax, lax + lbx], [lay, lay + lby], c = 'red',  marker='o')\n",
    "    plt.text(lax + lbx, lay + lby - 0.1, 'B', fontsize=12, color='black', ha='center', va='top')\n",
    "    \n",
    "    # plotting l4 \n",
    "    plt.plot([l1x[-1], l1x[-1] + l4 * np.cos(sangle4 * np.pi / 180)], [l1y[-1], l1y[-1] + l4 * np.sin(sangle4 * np.pi / 180)], c='red')\n",
    "    \n",
    "    \n",
    "    plt.gca().set_aspect('equal', adjustable='box')\n",
    "    plt.xlim(-l4,1.5 * l4)\n",
    "    plt.ylim(-l4,1.5 * l4)\n",
    "    plt.savefig(f'images/frame_{t2:04d}.png')\n",
    "    plt.close()"
   ]
  },
  {
   "cell_type": "code",
   "execution_count": 191,
   "id": "9e229327",
   "metadata": {
    "scrolled": false
   },
   "outputs": [
    {
     "name": "stdout",
     "output_type": "stream",
     "text": [
      "completed adding frame_0000.png\n",
      "completed adding frame_0015.png\n",
      "completed adding frame_0030.png\n",
      "completed adding frame_0045.png\n",
      "completed adding frame_0060.png\n",
      "completed adding frame_0075.png\n",
      "completed adding frame_0090.png\n",
      "\n",
      "Process completed. New video added to the folder /video\n"
     ]
    }
   ],
   "source": [
    "# creating a video\n",
    "for t2 in range(len(theta)):\n",
    "    frame_path = f'images/frame_{t2:04d}.png'\n",
    "    frame = cv2.imread(frame_path)\n",
    "    if t2 % 15 == 0:\n",
    "        print(f'completed adding frame_{t2:04d}.png')\n",
    "    out.write(frame)\n",
    "out.release()\n",
    "print()\n",
    "print('Process completed. New video added to the folder /video')"
   ]
  },
  {
   "cell_type": "code",
   "execution_count": 192,
   "id": "8621d175",
   "metadata": {},
   "outputs": [],
   "source": [
    "import os\n",
    "# Clean up the temporary image frames\n",
    "for t2 in range(len(theta)):\n",
    "    file_path = f'images/frame_{t2:04d}.png'\n",
    "    if os.path.exists(file_path):\n",
    "        os.remove(file_path)"
   ]
  }
 ],
 "metadata": {
  "kernelspec": {
   "display_name": "Python 3 (ipykernel)",
   "language": "python",
   "name": "python3"
  },
  "language_info": {
   "codemirror_mode": {
    "name": "ipython",
    "version": 3
   },
   "file_extension": ".py",
   "mimetype": "text/x-python",
   "name": "python",
   "nbconvert_exporter": "python",
   "pygments_lexer": "ipython3",
   "version": "3.10.9"
  }
 },
 "nbformat": 4,
 "nbformat_minor": 5
}
